{
  "nbformat": 4,
  "nbformat_minor": 0,
  "metadata": {
    "colab": {
      "provenance": [],
      "authorship_tag": "ABX9TyO0DvAO20Wqceq52GZEHKUZ",
      "include_colab_link": true
    },
    "kernelspec": {
      "name": "python3",
      "display_name": "Python 3"
    },
    "language_info": {
      "name": "python"
    }
  },
  "cells": [
    {
      "cell_type": "markdown",
      "metadata": {
        "id": "view-in-github",
        "colab_type": "text"
      },
      "source": [
        "<a href=\"https://colab.research.google.com/github/sreerag13/AI-Notebooks/blob/main/ComputerVision/Computer_Vision_Basics.ipynb\" target=\"_parent\"><img src=\"https://colab.research.google.com/assets/colab-badge.svg\" alt=\"Open In Colab\"/></a>"
      ]
    },
    {
      "cell_type": "markdown",
      "source": [
        "## Low Level Vision"
      ],
      "metadata": {
        "id": "_SA45V9xVY_G"
      }
    },
    {
      "cell_type": "markdown",
      "source": [
        "#### Histogram and Histogram equalization"
      ],
      "metadata": {
        "id": "nlsuJF6OWTjC"
      }
    },
    {
      "cell_type": "code",
      "execution_count": null,
      "metadata": {
        "id": "BZv5_naPR_Ac"
      },
      "outputs": [],
      "source": []
    },
    {
      "cell_type": "markdown",
      "source": [
        "## Mid Level Vision"
      ],
      "metadata": {
        "id": "dtI5qMwsVc43"
      }
    },
    {
      "cell_type": "markdown",
      "source": [
        "## Object Segmentation"
      ],
      "metadata": {
        "id": "qjhEI75vVghR"
      }
    },
    {
      "cell_type": "markdown",
      "source": [
        "## Image Classification"
      ],
      "metadata": {
        "id": "P9c6zJC2VqrA"
      }
    },
    {
      "cell_type": "markdown",
      "source": [
        "## Object Detection and Recognition"
      ],
      "metadata": {
        "id": "R5BY0PIdVw1D"
      }
    },
    {
      "cell_type": "markdown",
      "source": [
        "## Object Tracking"
      ],
      "metadata": {
        "id": "MXJLO3QmV9lh"
      }
    }
  ]
}